data = catalog.load("dataset_kobe_dev")
data


data = catalog.load("dataset_kobe_prod")
data.describe()


!pip install kedro-datasets[pickle-pickleDataset]>=3.0
