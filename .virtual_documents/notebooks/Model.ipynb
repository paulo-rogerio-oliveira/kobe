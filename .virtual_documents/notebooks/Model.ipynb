
import pandas as pd
import mlflow
from sklearn.model_selection import train_test_split
from sklearn.metrics import log_loss, f1_score
from pycaret.classification import setup, create_model, predict_model, save_model

def Treinamento(
    target: str = "shot_made_flag",
    modelo_saida: str = "modelo_final"
):
    """Treina dois modelos com PyCaret, registra métricas no MLflow e retorna o melhor."""
         
    df_train = catalog.load("base_train")
    df_test = catalog.load("base_test")
    
    # Inicia a run no MLflow
    with mlflow.start_run(run_name="Treinamento"):
        # 1. Setup PyCaret
        exp = setup(
            data=df_train,
            target=target,
            silent=True,
            session_id=42,
            log_experiment=False,  # gerencia logs via mlflow diretamente
        )
        print("Executando")
        # 2. Treinamento dos modelos
        lr = create_model("lr")      # Regressão Logística
        dt = create_model("dt")      # Decision Tree
        
        # 3. Avaliação na base de teste
        # Previsões
        pred_lr = predict_model(lr, data=df_test)
        pred_dt = predict_model(dt, data=df_test)
        
        # PyCaret adiciona coluna "Label" e "Score"
        y_true = df_test[target].values
        y_proba_lr = pred_lr["Score"].values
        y_proba_dt = pred_dt["Score"].values
        y_pred_dt = pred_dt["Label"].values
        
        # Métricas
        ll_lr = log_loss(y_true, y_proba_lr)
        ll_dt = log_loss(y_true, y_proba_dt)
        f1_dt = f1_score(y_true, y_pred_dt)
        print("Finalizado")
        # 4. Log das métricas
        mlflow.log_metric("logloss_lr", ll_lr)
        mlflow.log_metric("logloss_dt", ll_dt)
        mlflow.log_metric("f1_dt", f1_dt)
        
        # 5. Seleção do modelo final
        # Critério: menor log loss; em caso de empate, escolha aquele com maior F1
        if ll_lr < ll_dt:
            best_model, best_name = lr, "lr"
        elif ll_dt < ll_lr:
            best_model, best_name = dt, "dt"
        else:
            # empataram em logloss → escolher dt se F1 maior, senão lr
            best_model, best_name = (dt, "dt") if f1_dt > 0 else (lr, "lr")
        
        mlflow.log_param("modelo_escolhido", best_name)
        
        # 6. Salvando o modelo final
        # PyCaret save_model já serializa e retorna o path
        path = save_model(best_model, modelo_saida)
        mlflow.log_artifact(path, artifact_path="models")
        print("Finalizado")
        return best_model

Treinamento()


print("teste")


!conda activate kobe_pycaret



