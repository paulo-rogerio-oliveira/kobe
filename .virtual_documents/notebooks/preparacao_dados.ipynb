import pandas
import mlflow

with mlflow.start_run(run_name="PreparacaoDados"):
        # Carregar datasets
        df_dev = catalog.load("dataset_kobe_dev")
        df = df_dev

        # Selecionar colunas relevantes
        cols = ["lat", "lon", "minutes_remaining", "period", "playoffs", "shot_distance", "shot_made_flag"]
        df = df[cols]

        # Remover linhas com dados faltantes
        df = df.dropna()

        # Separar features e alvo
        X = df.drop(columns=["shot_made_flag"])
        y = df["shot_made_flag"]

        # Salvar dataset filtrado
        processed_path = "data_filtered"
 
        # Registrar artefato
        mlflow.log_artifact(processed_path)

        # Log de métricas: dimensão do dataset
        mlflow.log_metric("n_rows", df.shape[0])
        mlflow.log_metric("n_cols", df.shape[1])
        






