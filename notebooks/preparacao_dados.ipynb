{
 "cells": [
  {
   "cell_type": "code",
   "execution_count": null,
   "id": "010d8021-ccd5-4e21-a58f-371fa7cff84f",
   "metadata": {},
   "outputs": [],
   "source": [
    "import pandas\n",
    "import mlflow\n",
    "\n",
    "with mlflow.start_run(run_name=\"PreparacaoDados\"):\n",
    "        # Carregar datasets\n",
    "        df_dev = catalog.load(\"dataset_kobe_dev\")\n",
    "        df = df_dev\n",
    "\n",
    "        # Selecionar colunas relevantes\n",
    "        cols = [\"lat\", \"lon\", \"minutes_remaining\", \"period\", \"playoffs\", \"shot_distance\", \"shot_made_flag\"]\n",
    "        df = df[cols]\n",
    "\n",
    "        # Remover linhas com dados faltantes\n",
    "        df = df.dropna()\n",
    "\n",
    "        # Separar features e alvo\n",
    "        X = df.drop(columns=[\"shot_made_flag\"])\n",
    "        y = df[\"shot_made_flag\"]\n",
    "\n",
    "        # Salvar dataset filtrado\n",
    "        processed_path = \"data_filtered\"\n",
    " \n",
    "        # Registrar artefato\n",
    "        mlflow.log_artifact(processed_path)\n",
    "\n",
    "        # Log de métricas: dimensão do dataset\n",
    "        mlflow.log_metric(\"n_rows\", df.shape[0])\n",
    "        mlflow.log_metric(\"n_cols\", df.shape[1])\n",
    "        "
   ]
  },
  {
   "cell_type": "code",
   "execution_count": null,
   "id": "e5014fd2-6559-4f03-a3ce-4fd0c232ee69",
   "metadata": {},
   "outputs": [],
   "source": []
  },
  {
   "cell_type": "code",
   "execution_count": null,
   "id": "e15d76e1-1864-44f1-b3b7-2c3c64edb090",
   "metadata": {},
   "outputs": [],
   "source": []
  }
 ],
 "metadata": {
  "kernelspec": {
   "display_name": "Kedro (work)",
   "language": "python",
   "name": "kedro_work"
  },
  "language_info": {
   "codemirror_mode": {
    "name": "ipython",
    "version": 3
   },
   "file_extension": ".py",
   "mimetype": "text/x-python",
   "name": "python",
   "nbconvert_exporter": "python",
   "pygments_lexer": "ipython3",
   "version": "3.11.11"
  }
 },
 "nbformat": 4,
 "nbformat_minor": 5
}
